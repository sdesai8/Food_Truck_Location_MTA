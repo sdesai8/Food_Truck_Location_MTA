{
 "cells": [
  {
   "cell_type": "code",
   "execution_count": 28,
   "metadata": {},
   "outputs": [],
   "source": [
    "from __future__ import print_function, division"
   ]
  },
  {
   "cell_type": "code",
   "execution_count": 46,
   "metadata": {},
   "outputs": [],
   "source": [
    "import pandas as pd\n",
    "from datetime import datetime\n",
    "from collections import defaultdict\n",
    "import numpy as np\n",
    "import seaborn as sns\n",
    "import matplotlib.pyplot as plt\n",
    "%matplotlib inline"
   ]
  },
  {
   "cell_type": "code",
   "execution_count": 30,
   "metadata": {},
   "outputs": [],
   "source": [
    "import datetime"
   ]
  },
  {
   "cell_type": "code",
   "execution_count": 127,
   "metadata": {},
   "outputs": [],
   "source": [
    "pd.options.display.float_format = '{:.3f}'.format"
   ]
  },
  {
   "cell_type": "code",
   "execution_count": 32,
   "metadata": {},
   "outputs": [],
   "source": [
    "# Source: http://web.mta.info/developers/turnstile.html\n",
    "def get_data(week_nums):\n",
    "    url = \"http://web.mta.info/developers/data/nyct/turnstile/turnstile_{}.txt\"\n",
    "    dfs = []\n",
    "    for week_num in week_nums:\n",
    "        file_url = url.format(week_num)\n",
    "        dfs.append(pd.read_csv(file_url))\n",
    "    return pd.concat(dfs)\n",
    "        \n",
    "week_nums = [190706,190629, 190622, 190615, 190608, 190601,190525,190518,190511,190504, 190427,190420,190413,190406]\n",
    "df = get_data(week_nums)"
   ]
  },
  {
   "cell_type": "code",
   "execution_count": 33,
   "metadata": {},
   "outputs": [],
   "source": [
    "def get_daily_counts(row, max_counter,type_exit):\n",
    "    counter = row[type_exit] - row[\"PREV_\"+type_exit]\n",
    "    if counter < 0:\n",
    "        counter = -counter\n",
    "    if counter > max_counter:\n",
    "        counter = min(row[type_exit], row[\"PREV_\"+type_exit])\n",
    "    if counter > max_counter:\n",
    "        return 0\n",
    "    return counter"
   ]
  },
  {
   "cell_type": "code",
   "execution_count": 34,
   "metadata": {},
   "outputs": [],
   "source": [
    "def clean_data(df):\n",
    "    \n",
    "    #Clean column names\n",
    "    df.columns = df.columns.str.strip()\n",
    "    \n",
    "    #Add datetime\n",
    "    df['DATETIME'] = pd.to_datetime(df['DATE']+' '+df['TIME'],format=\"%m/%d/%Y %H:%M:%S\")\n",
    "    \n",
    "    df.head()\n",
    "    \n",
    "    #Add DAY_OF_WEEK column\n",
    "    #df['DAY_OF_WEEK'] = pd.to_datetime(df[\"DATETIME\"], errors='coerce').dt.weekday_name\n",
    "    \n",
    "    #Get rid of duplicate entries\n",
    "    df.sort_values([\"C/A\", \"UNIT\", \"SCP\", \"STATION\", \"DATETIME\"],inplace=True, ascending=False)\n",
    "    df.drop_duplicates(subset=[\"C/A\", \"UNIT\", \"SCP\", \"STATION\", \"DATETIME\"], inplace=True)\n",
    "    \n",
    "    #Drop DESC column\n",
    "    turnstiles_df1 = df.drop([\"DESC\"], axis=1, errors=\"ignore\")\n",
    "    \n",
    "    #Counting Entries and Exits\n",
    "    turnstiles_daily_time = (turnstiles_df1.groupby([\"C/A\", \"UNIT\", \"SCP\", \"STATION\", \"DATETIME\",\"LINENAME\"],as_index=False)['ENTRIES','EXITS'].first())\n",
    "    turnstiles_daily_time[[\"PREV_DATE\", \"PREV_ENTRIES\", \"PREV_EXITS\"]] = (turnstiles_daily_time\n",
    "                                                       .groupby([\"C/A\", \"UNIT\", \"SCP\", \"STATION\",\"LINENAME\"])[\"DATETIME\",\"ENTRIES\",\"EXITS\"]\n",
    "                                                       .transform(lambda grp: grp.shift(1)))\n",
    "    turnstiles_daily_time.dropna(subset=[\"PREV_DATE\"], axis=0, inplace=True)\n",
    "    # If counter is > 1Million, then the counter might have been reset.  \n",
    "    # Just set it to zero as different counters have different cycle limits\n",
    "    turnstiles_daily_time[\"HOURLY_ENTRIES\"] = turnstiles_daily_time.apply(get_daily_counts, axis=1, max_counter=10000, type_exit ='ENTRIES')\n",
    "    turnstiles_daily_time[\"HOURLY_EXITS\"] = turnstiles_daily_time.apply(get_daily_counts,axis = 1, max_counter = 10000, type_exit ='EXITS')\n",
    "    \n",
    "    #Clean '0' from Stations_Daily_Time\n",
    "    turnstiles_daily_time['HOURLY_ENTRIES'].replace(0, np.nan, inplace=True)\n",
    "    turnstiles_daily_time['HOURLY_EXITS'].replace(0,np.nan,inplace=True) \n",
    "    \n",
    "    #Creating a Total Count Columns\n",
    "    turnstiles_daily_time['TOTAL_COUNT'] = turnstiles_daily_time['HOURLY_ENTRIES']+turnstiles_daily_time['HOURLY_EXITS']\n",
    "    \n",
    "    #Cleaning up columns in turnstiles_daily\n",
    "    turnstiles_daily_clean = turnstiles_daily_time.drop([\"PREV_ENTRIES\", \"PREV_EXITS\", \"PREV_DATE\", \"EXITS\", \"ENTRIES\"], axis=1, errors=\"ignore\")\n",
    "    \n",
    "    #Dropping Stations outside of Manhattan\n",
    "    turnstiles_daily_clean = turnstiles_daily_clean[(turnstiles_daily_clean.STATION != 'LACKAWANNA')&(turnstiles_daily_clean.STATION != 'KEW GARDENS')&\n",
    "                                                    (turnstiles_daily_clean.STATION != 'JKSN HT-ROOSVLT')&(turnstiles_daily_clean.STATION != 'FLUSHING-MAIN')&\n",
    "                                                   (turnstiles_daily_clean.STATION != 'JOURNAL SQUARE') & (turnstiles_daily_clean.STATION != 'JUNCTION BLVD')&\n",
    "                                                   (turnstiles_daily_clean.STATION != 'CONEY IS-STILLW')]\n",
    "    \n",
    "    return turnstiles_daily_clean\n",
    "    "
   ]
  },
  {
   "cell_type": "code",
   "execution_count": 35,
   "metadata": {},
   "outputs": [],
   "source": [
    "truck_data = clean_data(df)"
   ]
  },
  {
   "cell_type": "code",
   "execution_count": 36,
   "metadata": {},
   "outputs": [],
   "source": [
    "truck_data['DAY_OF_WEEK'] = pd.to_datetime(truck_data[\"DATETIME\"], errors='coerce').dt.weekday_name"
   ]
  },
  {
   "cell_type": "code",
   "execution_count": 37,
   "metadata": {},
   "outputs": [],
   "source": [
    "def timebin(element):\n",
    "    if element >=6 and element <= 11:\n",
    "        return \"Breakfast\"\n",
    "    elif element >11 and element <=16:\n",
    "        return \"Lunch\"\n",
    "    elif element > 16 and element <=23:\n",
    "        return \"Dinner\"\n",
    "    else: \n",
    "        return \"Late Night\"\n",
    "\n",
    "truck_data['HOURS']= truck_data['DATETIME'].dt.hour.apply(timebin)"
   ]
  },
  {
   "cell_type": "code",
   "execution_count": 38,
   "metadata": {},
   "outputs": [],
   "source": [
    "def weekend(day):\n",
    "    if day == 'Saturday' or day == 'Sunday':\n",
    "        return 'Weekend'\n",
    "    else:\n",
    "        return 'Workweek'\n",
    "truck_data['WEEK'] = truck_data['DAY_OF_WEEK'].apply(weekend)"
   ]
  },
  {
   "cell_type": "code",
   "execution_count": 39,
   "metadata": {},
   "outputs": [
    {
     "data": {
      "text/html": [
       "<div>\n",
       "<style scoped>\n",
       "    .dataframe tbody tr th:only-of-type {\n",
       "        vertical-align: middle;\n",
       "    }\n",
       "\n",
       "    .dataframe tbody tr th {\n",
       "        vertical-align: top;\n",
       "    }\n",
       "\n",
       "    .dataframe thead th {\n",
       "        text-align: right;\n",
       "    }\n",
       "</style>\n",
       "<table border=\"1\" class=\"dataframe\">\n",
       "  <thead>\n",
       "    <tr style=\"text-align: right;\">\n",
       "      <th></th>\n",
       "      <th>C/A</th>\n",
       "      <th>UNIT</th>\n",
       "      <th>SCP</th>\n",
       "      <th>STATION</th>\n",
       "      <th>DATETIME</th>\n",
       "      <th>LINENAME</th>\n",
       "      <th>HOURLY_ENTRIES</th>\n",
       "      <th>HOURLY_EXITS</th>\n",
       "      <th>TOTAL_COUNT</th>\n",
       "      <th>DAY_OF_WEEK</th>\n",
       "      <th>HOURS</th>\n",
       "      <th>WEEK</th>\n",
       "    </tr>\n",
       "  </thead>\n",
       "  <tbody>\n",
       "    <tr>\n",
       "      <th>1</th>\n",
       "      <td>A002</td>\n",
       "      <td>R051</td>\n",
       "      <td>02-00-00</td>\n",
       "      <td>59 ST</td>\n",
       "      <td>2019-03-30 04:00:00</td>\n",
       "      <td>NQR456W</td>\n",
       "      <td>20.0</td>\n",
       "      <td>8.0</td>\n",
       "      <td>28.0</td>\n",
       "      <td>Saturday</td>\n",
       "      <td>Late Night</td>\n",
       "      <td>Weekend</td>\n",
       "    </tr>\n",
       "    <tr>\n",
       "      <th>2</th>\n",
       "      <td>A002</td>\n",
       "      <td>R051</td>\n",
       "      <td>02-00-00</td>\n",
       "      <td>59 ST</td>\n",
       "      <td>2019-03-30 08:00:00</td>\n",
       "      <td>NQR456W</td>\n",
       "      <td>23.0</td>\n",
       "      <td>46.0</td>\n",
       "      <td>69.0</td>\n",
       "      <td>Saturday</td>\n",
       "      <td>Breakfast</td>\n",
       "      <td>Weekend</td>\n",
       "    </tr>\n",
       "    <tr>\n",
       "      <th>3</th>\n",
       "      <td>A002</td>\n",
       "      <td>R051</td>\n",
       "      <td>02-00-00</td>\n",
       "      <td>59 ST</td>\n",
       "      <td>2019-03-30 12:00:00</td>\n",
       "      <td>NQR456W</td>\n",
       "      <td>107.0</td>\n",
       "      <td>88.0</td>\n",
       "      <td>195.0</td>\n",
       "      <td>Saturday</td>\n",
       "      <td>Lunch</td>\n",
       "      <td>Weekend</td>\n",
       "    </tr>\n",
       "    <tr>\n",
       "      <th>4</th>\n",
       "      <td>A002</td>\n",
       "      <td>R051</td>\n",
       "      <td>02-00-00</td>\n",
       "      <td>59 ST</td>\n",
       "      <td>2019-03-30 16:00:00</td>\n",
       "      <td>NQR456W</td>\n",
       "      <td>237.0</td>\n",
       "      <td>71.0</td>\n",
       "      <td>308.0</td>\n",
       "      <td>Saturday</td>\n",
       "      <td>Lunch</td>\n",
       "      <td>Weekend</td>\n",
       "    </tr>\n",
       "    <tr>\n",
       "      <th>5</th>\n",
       "      <td>A002</td>\n",
       "      <td>R051</td>\n",
       "      <td>02-00-00</td>\n",
       "      <td>59 ST</td>\n",
       "      <td>2019-03-30 20:00:00</td>\n",
       "      <td>NQR456W</td>\n",
       "      <td>345.0</td>\n",
       "      <td>56.0</td>\n",
       "      <td>401.0</td>\n",
       "      <td>Saturday</td>\n",
       "      <td>Dinner</td>\n",
       "      <td>Weekend</td>\n",
       "    </tr>\n",
       "  </tbody>\n",
       "</table>\n",
       "</div>"
      ],
      "text/plain": [
       "    C/A  UNIT       SCP STATION            DATETIME LINENAME  HOURLY_ENTRIES  \\\n",
       "1  A002  R051  02-00-00   59 ST 2019-03-30 04:00:00  NQR456W            20.0   \n",
       "2  A002  R051  02-00-00   59 ST 2019-03-30 08:00:00  NQR456W            23.0   \n",
       "3  A002  R051  02-00-00   59 ST 2019-03-30 12:00:00  NQR456W           107.0   \n",
       "4  A002  R051  02-00-00   59 ST 2019-03-30 16:00:00  NQR456W           237.0   \n",
       "5  A002  R051  02-00-00   59 ST 2019-03-30 20:00:00  NQR456W           345.0   \n",
       "\n",
       "   HOURLY_EXITS  TOTAL_COUNT DAY_OF_WEEK       HOURS     WEEK  \n",
       "1           8.0         28.0    Saturday  Late Night  Weekend  \n",
       "2          46.0         69.0    Saturday   Breakfast  Weekend  \n",
       "3          88.0        195.0    Saturday       Lunch  Weekend  \n",
       "4          71.0        308.0    Saturday       Lunch  Weekend  \n",
       "5          56.0        401.0    Saturday      Dinner  Weekend  "
      ]
     },
     "execution_count": 39,
     "metadata": {},
     "output_type": "execute_result"
    }
   ],
   "source": [
    "truck_data.head()"
   ]
  },
  {
   "cell_type": "code",
   "execution_count": 40,
   "metadata": {},
   "outputs": [],
   "source": [
    "def getranking(df,positions, weektype, count = 0):\n",
    "    #Create dictionary\n",
    "    count = count\n",
    "    df1 = (df.groupby(['STATION','LINENAME', 'WEEK', 'HOURS']).sum().reset_index())\n",
    "    topx_dict = defaultdict(str)\n",
    "    hours = ['Breakfast','Lunch','Dinner','Late Night']\n",
    "    for k in hours:\n",
    "        topx_dict[k] = (df1[(df1['WEEK'] == weektype)&(df1['HOURS'] == k)].reset_index().sort_values(by='TOTAL_COUNT',ascending=False).head(positions))\n",
    "    #Replace NaN for top stations in dictionary\n",
    "    if count == 0:\n",
    "        df2 = filldata(df,topx_dict)\n",
    "        topx_dict = getranking(df2,positions,weektype,count = 1)\n",
    "    if count == 1:\n",
    "        for k in hours:\n",
    "            topx_dict[k] = topx_dict[k].drop([\"index\"], axis=1, errors=\"ignore\")\n",
    "    return topx_dict"
   ]
  },
  {
   "cell_type": "code",
   "execution_count": 41,
   "metadata": {},
   "outputs": [],
   "source": [
    "#Fill Nan or 0's in top stations\n",
    "def filldata(df, dictionary):\n",
    "    for key in dictionary:\n",
    "        length = len(dictionary[key])\n",
    "    for k in range(length):\n",
    "        station = dictionary[key].STATION\n",
    "        df[(df.STATION == str(station))].fillna(df[(df.STATION == str(station))].TOTAL_COUNT.mean(), inplace=True)\n",
    "    return df"
   ]
  },
  {
   "cell_type": "code",
   "execution_count": 96,
   "metadata": {},
   "outputs": [],
   "source": [
    "#Get Top3\n",
    "top3_weekend = getranking(truck_data,3,weektype ='Workweek')"
   ]
  },
  {
   "cell_type": "code",
   "execution_count": 97,
   "metadata": {
    "scrolled": true
   },
   "outputs": [
    {
     "data": {
      "text/html": [
       "<div>\n",
       "<style scoped>\n",
       "    .dataframe tbody tr th:only-of-type {\n",
       "        vertical-align: middle;\n",
       "    }\n",
       "\n",
       "    .dataframe tbody tr th {\n",
       "        vertical-align: top;\n",
       "    }\n",
       "\n",
       "    .dataframe thead th {\n",
       "        text-align: right;\n",
       "    }\n",
       "</style>\n",
       "<table border=\"1\" class=\"dataframe\">\n",
       "  <thead>\n",
       "    <tr style=\"text-align: right;\">\n",
       "      <th></th>\n",
       "      <th>STATION</th>\n",
       "      <th>LINENAME</th>\n",
       "      <th>WEEK</th>\n",
       "      <th>HOURS</th>\n",
       "      <th>HOURLY_ENTRIES</th>\n",
       "      <th>HOURLY_EXITS</th>\n",
       "      <th>TOTAL_COUNT</th>\n",
       "    </tr>\n",
       "  </thead>\n",
       "  <tbody>\n",
       "    <tr>\n",
       "      <th>310</th>\n",
       "      <td>GRD CNTRL-42 ST</td>\n",
       "      <td>4567S</td>\n",
       "      <td>Workweek</td>\n",
       "      <td>Breakfast</td>\n",
       "      <td>1249336.0</td>\n",
       "      <td>2170388.0</td>\n",
       "      <td>3405979.0</td>\n",
       "    </tr>\n",
       "    <tr>\n",
       "      <th>397</th>\n",
       "      <td>PATH NEW WTC</td>\n",
       "      <td>1</td>\n",
       "      <td>Workweek</td>\n",
       "      <td>Breakfast</td>\n",
       "      <td>503052.0</td>\n",
       "      <td>2174612.0</td>\n",
       "      <td>2639681.0</td>\n",
       "    </tr>\n",
       "    <tr>\n",
       "      <th>300</th>\n",
       "      <td>FULTON ST</td>\n",
       "      <td>2345ACJZ</td>\n",
       "      <td>Workweek</td>\n",
       "      <td>Breakfast</td>\n",
       "      <td>700038.0</td>\n",
       "      <td>1774254.0</td>\n",
       "      <td>2462140.0</td>\n",
       "    </tr>\n",
       "  </tbody>\n",
       "</table>\n",
       "</div>"
      ],
      "text/plain": [
       "             STATION  LINENAME      WEEK      HOURS  HOURLY_ENTRIES  \\\n",
       "310  GRD CNTRL-42 ST     4567S  Workweek  Breakfast       1249336.0   \n",
       "397     PATH NEW WTC         1  Workweek  Breakfast        503052.0   \n",
       "300        FULTON ST  2345ACJZ  Workweek  Breakfast        700038.0   \n",
       "\n",
       "     HOURLY_EXITS  TOTAL_COUNT  \n",
       "310     2170388.0    3405979.0  \n",
       "397     2174612.0    2639681.0  \n",
       "300     1774254.0    2462140.0  "
      ]
     },
     "execution_count": 97,
     "metadata": {},
     "output_type": "execute_result"
    }
   ],
   "source": [
    "top3_weekend['Breakfast']"
   ]
  },
  {
   "cell_type": "code",
   "execution_count": 44,
   "metadata": {},
   "outputs": [],
   "source": [
    "hours = ['Breakfast','Lunch','Dinner','Late Night']\n",
    "count = []\n",
    "stations = []\n",
    "for k in hours:\n",
    "    count.append(top3_weekend[k]['TOTAL_COUNT'])\n",
    "    stations.append(top3_weekend[k]['STATION'])"
   ]
  },
  {
   "cell_type": "code",
   "execution_count": 120,
   "metadata": {},
   "outputs": [],
   "source": [
    "weekday_data = truck_data[(truck_data.WEEK == 'Workweek')]\n",
    "weekday_data.head(20)\n",
    "weekday_data = (truck_data.groupby(['STATION'])['TOTAL_COUNT'].sum().reset_index().sort_values('TOTAL_COUNT',ascending=False))"
   ]
  },
  {
   "cell_type": "code",
   "execution_count": 145,
   "metadata": {},
   "outputs": [
    {
     "data": {
      "text/plain": [
       "[Text(0, 0, '34 ST-PENN STA'),\n",
       " Text(0, 0, 'GRD CNTRL-42 ST'),\n",
       " Text(0, 0, '34 ST-HERALD SQ'),\n",
       " Text(0, 0, 'TIMES SQ-42 ST'),\n",
       " Text(0, 0, '14 ST-UNION SQ'),\n",
       " Text(0, 0, '23 ST'),\n",
       " Text(0, 0, '42 ST-PORT AUTH'),\n",
       " Text(0, 0, 'FULTON ST'),\n",
       " Text(0, 0, '86 ST'),\n",
       " Text(0, 0, '125 ST')]"
      ]
     },
     "execution_count": 145,
     "metadata": {},
     "output_type": "execute_result"
    },
    {
     "data": {
      "image/png": "[encoded data removed]",
      "text/plain": [
       "<Figure size 432x288 with 1 Axes>"
      ]
     },
     "metadata": {
      "needs_background": "light"
     },
     "output_type": "display_data"
    }
   ],
   "source": [
    "weekday_data['WEEKLY_COUNT'] = weekday_data.TOTAL_COUNT/14\n",
    "stations = weekday_data.STATION.head(10)\n",
    "count = weekday_data.WEEKLY_COUNT.head(10)\n",
    "g = sns.barplot(stations,count)\n",
    "g.set_xticklabels(stations, rotation=90)"
   ]
  },
  {
   "cell_type": "code",
   "execution_count": 199,
   "metadata": {},
   "outputs": [],
   "source": [
    "top_stations = truck_data[(truck_data.STATION == '34 ST-PENN STA')|(truck_data.STATION == 'GRD CNTRL-42 ST')|(truck_data.STATION == '34 ST-HERALD SQ')]\n",
    "top_stations = top_stations.groupby(['STATION','DAY_OF_WEEK'])['TOTAL_COUNT'].sum().reset_index()"
   ]
  },
  {
   "cell_type": "code",
   "execution_count": 202,
   "metadata": {},
   "outputs": [],
   "source": [
    "top_stations['DAY_AVERAGE'] = top_stations.TOTAL_COUNT/14"
   ]
  },
  {
   "cell_type": "code",
   "execution_count": 196,
   "metadata": {},
   "outputs": [],
   "source": [
    "stations = top_stations.STATION.unique()\n",
    "count = []\n",
    "weekdays = ['Monday', 'Tuesday', 'Wednesday', 'Thursday', 'Friday', 'Saturday', 'Sunday']\n",
    "for station in stations:\n",
    "    for day in weekdays:\n",
    "        count.append(top_stations[(top_stations.STATION == station)&(top_stations.DAY_OF_WEEK == day)]['TOTAL_COUNT'])\n"
   ]
  },
  {
   "cell_type": "code",
   "execution_count": 203,
   "metadata": {},
   "outputs": [
    {
     "data": {
      "text/plain": [
       "<seaborn.axisgrid.FacetGrid at 0x1a32887dd8>"
      ]
     },
     "execution_count": 203,
     "metadata": {},
     "output_type": "execute_result"
    },
    {
     "data": {
      "image/png": "[encoded data removed]",
      "text/plain": [
       "<Figure size 485.875x360 with 1 Axes>"
      ]
     },
     "metadata": {
      "needs_background": "light"
     },
     "output_type": "display_data"
    }
   ],
   "source": [
    "g = sns.catplot(x = 'DAY_OF_WEEK', y = 'DAY_AVERAGE', kind='bar', data = top_stations, hue = 'STATION', order = weekdays)\n",
    "g.set_xticklabels(rotation=30)"
   ]
  },
  {
   "cell_type": "code",
   "execution_count": 194,
   "metadata": {},
   "outputs": [
    {
     "data": {
      "text/plain": [
       "[1   3095349.000\n",
       " Name: TOTAL_COUNT, dtype: float64, 5   3366955.000\n",
       " Name: TOTAL_COUNT, dtype: float64, 6   3502088.000\n",
       " Name: TOTAL_COUNT, dtype: float64, 4   3365967.000\n",
       " Name: TOTAL_COUNT, dtype: float64, 0   3361468.000\n",
       " Name: TOTAL_COUNT, dtype: float64, 2   2113234.000\n",
       " Name: TOTAL_COUNT, dtype: float64, 3   1739155.000\n",
       " Name: TOTAL_COUNT, dtype: float64, 8   4301385.000\n",
       " Name: TOTAL_COUNT, dtype: float64, 12   4651153.000\n",
       " Name: TOTAL_COUNT, dtype: float64, 13   4695299.000\n",
       " Name: TOTAL_COUNT, dtype: float64, 11   4589571.000\n",
       " Name: TOTAL_COUNT, dtype: float64, 7   4377327.000\n",
       " Name: TOTAL_COUNT, dtype: float64, 9   2613057.000\n",
       " Name: TOTAL_COUNT, dtype: float64, 10   2207277.000\n",
       " Name: TOTAL_COUNT, dtype: float64, 15   3929999.000\n",
       " Name: TOTAL_COUNT, dtype: float64, 19   4338781.000\n",
       " Name: TOTAL_COUNT, dtype: float64, 20   4345069.000\n",
       " Name: TOTAL_COUNT, dtype: float64, 18   4214553.000\n",
       " Name: TOTAL_COUNT, dtype: float64, 14   3921704.000\n",
       " Name: TOTAL_COUNT, dtype: float64, 16   1733989.000\n",
       " Name: TOTAL_COUNT, dtype: float64, 17   1367555.000\n",
       " Name: TOTAL_COUNT, dtype: float64]"
      ]
     },
     "execution_count": 194,
     "metadata": {},
     "output_type": "execute_result"
    }
   ],
   "source": [
    "count"
   ]
  },
  {
   "cell_type": "code",
   "execution_count": null,
   "metadata": {},
   "outputs": [],
   "source": []
  }
 ],
 "metadata": {
  "kernelspec": {
   "display_name": "Python 3",
   "language": "python",
   "name": "python3"
  },
  "language_info": {
   "codemirror_mode": {
    "name": "ipython",
    "version": 3
   },
   "file_extension": ".py",
   "mimetype": "text/x-python",
   "name": "python",
   "nbconvert_exporter": "python",
   "pygments_lexer": "ipython3",
   "version": "3.7.3"
  }
 },
 "nbformat": 4,
 "nbformat_minor": 2
}
