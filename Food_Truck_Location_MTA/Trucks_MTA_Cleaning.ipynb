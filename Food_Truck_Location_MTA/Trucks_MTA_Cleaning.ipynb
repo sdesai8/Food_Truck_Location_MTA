{
 "cells": [
  {
   "cell_type": "code",
   "execution_count": 20,
   "metadata": {},
   "outputs": [],
   "source": [
    "from __future__ import print_function, division"
   ]
  },
  {
   "cell_type": "code",
   "execution_count": 21,
   "metadata": {},
   "outputs": [],
   "source": [
    "import pandas as pd\n",
    "from datetime import datetime\n",
    "import numpy as np\n",
    "\n",
    "%matplotlib inline"
   ]
  },
  {
   "cell_type": "code",
   "execution_count": 22,
   "metadata": {},
   "outputs": [],
   "source": [
    "import datetime"
   ]
  },
  {
   "cell_type": "code",
   "execution_count": 23,
   "metadata": {},
   "outputs": [],
   "source": [
    "# Source: http://web.mta.info/developers/turnstile.html\n",
    "def get_data(week_nums):\n",
    "    url = \"http://web.mta.info/developers/data/nyct/turnstile/turnstile_{}.txt\"\n",
    "    dfs = []\n",
    "    for week_num in week_nums:\n",
    "        file_url = url.format(week_num)\n",
    "        dfs.append(pd.read_csv(file_url))\n",
    "    return pd.concat(dfs)\n",
    "        \n",
    "week_nums = [190629, 190622, 190615]\n",
    "df = get_data(week_nums)"
   ]
  },
  {
   "cell_type": "code",
   "execution_count": 24,
   "metadata": {},
   "outputs": [],
   "source": [
    "def get_daily_counts(row, max_counter,type_exit):\n",
    "    counter = row[type_exit] - row[\"PREV_\"+type_exit]\n",
    "    if counter < 0:\n",
    "        counter = -counter\n",
    "    if counter > max_counter:\n",
    "        counter = min(row[type_exit], row[\"PREV_\"+type_exit])\n",
    "    if counter > max_counter:\n",
    "        return 0\n",
    "    return counter"
   ]
  },
  {
   "cell_type": "code",
   "execution_count": 28,
   "metadata": {},
   "outputs": [],
   "source": [
    "def clean_data(df):\n",
    "    \n",
    "    #Clean column names\n",
    "    df.columns = df.columns.str.strip()\n",
    "    \n",
    "    #Add datetime\n",
    "    dti = pd.to_datetime(df['DATE']+' '+df['TIME'],format=\"%m/%d/%Y %H:%M:%S\")\n",
    "    df['DATETIME'] = dti\n",
    "    df.head()\n",
    "    \n",
    "    #Get rid of duplicate entries\n",
    "    df.sort_values([\"C/A\", \"UNIT\", \"SCP\", \"STATION\", \"DATETIME\"],inplace=True, ascending=False)\n",
    "    df.drop_duplicates(subset=[\"C/A\", \"UNIT\", \"SCP\", \"STATION\", \"DATETIME\"], inplace=True)\n",
    "    \n",
    "    #Drop DESC column\n",
    "    turnstiles_df1 = df.drop([\"DESC\"], axis=1, errors=\"ignore\")\n",
    "    \n",
    "    #Counting Entries and Exits\n",
    "    turnstiles_daily_time = (turnstiles_df1.groupby([\"C/A\", \"UNIT\", \"SCP\", \"STATION\", \"DATETIME\"],as_index=False)['ENTRIES','EXITS'].first())\n",
    "    turnstiles_daily_time[[\"PREV_DATE\", \"PREV_ENTRIES\", \"PREV_EXITS\"]] = (turnstiles_daily_time\n",
    "                                                       .groupby([\"C/A\", \"UNIT\", \"SCP\", \"STATION\"])[\"DATETIME\",\"ENTRIES\",\"EXITS\"]\n",
    "                                                       .transform(lambda grp: grp.shift(1)))\n",
    "    turnstiles_daily_time.dropna(subset=[\"PREV_DATE\"], axis=0, inplace=True)\n",
    "    # If counter is > 1Million, then the counter might have been reset.  \n",
    "    # Just set it to zero as different counters have different cycle limits\n",
    "    turnstiles_daily_time[\"HOURLY_ENTRIES\"] = turnstiles_daily_time.apply(get_daily_counts, axis=1, max_counter=10000, type_exit ='ENTRIES')\n",
    "    turnstiles_daily_time[\"HOURLY_EXITS\"] = turnstiles_daily_time.apply(get_daily_counts,axis = 1, max_counter = 10000, type_exit ='EXITS')\n",
    "    \n",
    "    #Clean '0' from Stations_Daily_Time\n",
    "    turnstiles_daily_time['HOURLY_ENTRIES'].replace(0, np.nan, inplace=True)\n",
    "    turnstiles_daily_time['HOURLY_EXITS'].replace(0,np.nan,inplace=True) \n",
    "    \n",
    "    #Creating a Total Count Columns\n",
    "    turnstiles_daily_time['TOTAL_COUNT'] = turnstiles_daily_time['HOURLY_ENTRIES']+turnstiles_daily_time['HOURLY_EXITS']\n",
    "    \n",
    "    #Cleaning up columns in turnstiles_daily\n",
    "    turnstiles_daily_clean = turnstiles_daily_time.drop([\"PREV_ENTRIES\", \"PREV_EXITS\", \"PREV_DATE\", \"EXITS\", \"ENTRIES\"], axis=1, errors=\"ignore\")\n",
    "    \n",
    "    #Dropping Lackawanna\n",
    "    turnstiles_daily_clean = turnstiles_daily_clean[turnstiles_daily_clean.STATION != 'LACKAWANNA']\n",
    "    \n",
    "    return turnstiles_daily_clean\n",
    "    "
   ]
  },
  {
   "cell_type": "code",
   "execution_count": 29,
   "metadata": {},
   "outputs": [],
   "source": [
    "truck_data = clean_data(df)"
   ]
  },
  {
   "cell_type": "code",
   "execution_count": null,
   "metadata": {},
   "outputs": [],
   "source": []
  }
 ],
 "metadata": {
  "kernelspec": {
   "display_name": "Python 3",
   "language": "python",
   "name": "python3"
  },
  "language_info": {
   "codemirror_mode": {
    "name": "ipython",
    "version": 3
   },
   "file_extension": ".py",
   "mimetype": "text/x-python",
   "name": "python",
   "nbconvert_exporter": "python",
   "pygments_lexer": "ipython3",
   "version": "3.7.3"
  }
 },
 "nbformat": 4,
 "nbformat_minor": 2
}
