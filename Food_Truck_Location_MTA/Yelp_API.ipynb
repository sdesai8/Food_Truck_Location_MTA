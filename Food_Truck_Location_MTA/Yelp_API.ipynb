{
 "cells": [
  {
   "cell_type": "code",
   "execution_count": 147,
   "metadata": {
    "scrolled": true
   },
   "outputs": [
    {
     "name": "stdout",
     "output_type": "stream",
     "text": [
      "The status code is 200\n"
     ]
    },
    {
     "data": {
      "text/plain": [
       "['newamerican', 'latin', 'korean']"
      ]
     },
     "execution_count": 147,
     "metadata": {},
     "output_type": "execute_result"
    }
   ],
   "source": [
    "import requests\n",
    "import json\n",
    "from collections import Counter\n",
    "from collections import defaultdict\n",
    "\n",
    "api_key = 'urQdmm3HnCiMOWn6XlXPNXLkzrKwkUy4HJtLTw0PikrB5qqKxVOeL6FprDZF7pfh16zpG6A5AOiiw7tg5D20Rzr__enoNvITZULaaro-1QVW_7dkKlHwYkJL1cMfXXYx'\n",
    "headers = {'Authorization': 'Bearer %s' % api_key}\n",
    "\n",
    "url='https://api.yelp.com/v3/businesses/search'\n",
    " \n",
    "def top3cuisines(zipcode):\n",
    "    params = {'term':'restaurant','location': zipcode}\n",
    "    req=requests.get(url, params=params, headers=headers)\n",
    "    a = json.loads(req.text)  \n",
    "# Making a get request to the API\n",
    "# proceed only if the status code is 200\n",
    "    #print('The status code is {}'.format(req.status_code))\n",
    "# printing the text from the response \n",
    "\n",
    "    keys,values = a.keys(), a.values()\n",
    "    dict = defaultdict(int)\n",
    "    list1 =[]\n",
    "    \n",
    "    for i in range (0, 20):\n",
    "        b = a[\"businesses\"][i]['categories']\n",
    "        dictionary = b[0]\n",
    "        cuisine = dictionary[\"alias\"]\n",
    "        list1.append(cuisine)\n",
    "\n",
    "    dict = defaultdict(int)\n",
    "\n",
    "    for element in list1:\n",
    "        if element in dict:\n",
    "            dict[element] +=1\n",
    "        else:\n",
    "            dict[element] = 1\n",
    "\n",
    "    B = sorted(dict, key=dict.get)\n",
    "\n",
    "    return B[-3:]\n",
    "\n",
    "top3cuisines('10016')\n"
   ]
  },
  {
   "cell_type": "code",
   "execution_count": null,
   "metadata": {},
   "outputs": [],
   "source": []
  }
 ],
 "metadata": {
  "kernelspec": {
   "display_name": "Python 3",
   "language": "python",
   "name": "python3"
  },
  "language_info": {
   "codemirror_mode": {
    "name": "ipython",
    "version": 3
   },
   "file_extension": ".py",
   "mimetype": "text/x-python",
   "name": "python",
   "nbconvert_exporter": "python",
   "pygments_lexer": "ipython3",
   "version": "3.7.3"
  }
 },
 "nbformat": 4,
 "nbformat_minor": 2
}
